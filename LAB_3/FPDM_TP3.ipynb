{
  "nbformat": 4,
  "nbformat_minor": 0,
  "metadata": {
    "colab": {
      "name": "FPDM-TP3-Clean",
      "provenance": [],
      "collapsed_sections": []
    },
    "kernelspec": {
      "name": "python3",
      "display_name": "Python 3"
    }
  },
  "cells": [
    {
      "cell_type": "markdown",
      "metadata": {
        "id": "3wDyMPSj-Jli",
        "colab_type": "text"
      },
      "source": [
        "#Fundametals of Probabilistic Data Minig LAB 3\n",
        "\n",
        "## Authors: Zeinab Abdallah, Lucas Batier, Ionut-Vlad Modoranu, Predrag Pilipovic\n",
        "\n",
        "### See formulas to update the model at the end of the notebook"
      ]
    },
    {
      "cell_type": "code",
      "metadata": {
        "id": "NxozpAUi2jeL",
        "colab_type": "code",
        "outputId": "f596b73b-2d9f-40d5-aa16-b5d5722fc41d",
        "colab": {
          "base_uri": "https://localhost:8080/",
          "height": 34
        }
      },
      "source": [
        "import numpy as np\n",
        "import matplotlib.pyplot as plt\n",
        "import pdb\n",
        "import math\n",
        "import itertools\n",
        "from sklearn.cluster import KMeans\n",
        "from scipy.optimize import linear_sum_assignment\n",
        "print('loaded libraries')"
      ],
      "execution_count": 0,
      "outputs": [
        {
          "output_type": "stream",
          "text": [
            "loaded libraries\n"
          ],
          "name": "stdout"
        }
      ]
    },
    {
      "cell_type": "markdown",
      "metadata": {
        "id": "3p2LxKAz-UUw",
        "colab_type": "text"
      },
      "source": [
        "# No need to upload digamma.py because the method is here, in the notebook"
      ]
    },
    {
      "cell_type": "code",
      "metadata": {
        "id": "D3aD4vQM21Je",
        "colab_type": "code",
        "outputId": "23d9042f-689b-48c9-cbd1-c43b11db25b5",
        "colab": {
          "base_uri": "https://localhost:8080/",
          "height": 34
        }
      },
      "source": [
        "def digamma(x):\n",
        "#  Check the input.\n",
        "  if ( x <= 0.0 ):\n",
        "    value = 0.0\n",
        "    ifault = 1\n",
        "    return value, ifault\n",
        "#  Initialize.\n",
        "  ifault = 0\n",
        "  value = 0.0\n",
        "#  Use approximation for small argument.\n",
        "  if ( x <= 0.000001 ):\n",
        "    euler_mascheroni = 0.57721566490153286060\n",
        "    value = - euler_mascheroni - 1.0 / x + 1.6449340668482264365 * x\n",
        "    return value, ifault\n",
        "#  Reduce to DIGAMA(X + N).\n",
        "  while ( x < 8.5 ):\n",
        "    value = value - 1.0 / x\n",
        "    x = x + 1.0\n",
        "#  Use Stirling's (actually de Moivre's) expansion.\n",
        "  r = 1.0 / x\n",
        "  value = value + np.log ( x ) - 0.5 * r\n",
        "  r = r * r\n",
        "  value = value - r * ( 1.0 / 12.0 - r * ( 1.0 / 120.0 - r * ( 1.0 / 252.0 - r * ( 1.0 / 240.0 - r * ( 1.0 / 132.0 ) ) ) ) )\n",
        "  return value, ifault\n",
        "print('loaded digamma')"
      ],
      "execution_count": 0,
      "outputs": [
        {
          "output_type": "stream",
          "text": [
            "loaded digamma\n"
          ],
          "name": "stdout"
        }
      ]
    },
    {
      "cell_type": "code",
      "metadata": {
        "id": "-pz1sDQWECm7",
        "colab_type": "code",
        "outputId": "5030821e-ac02-44a3-ff7c-fdc991554629",
        "colab": {
          "base_uri": "https://localhost:8080/",
          "height": 34
        }
      },
      "source": [
        "def accuracy_with_all_permutations(GroundTruth_Assignment, Estimated_Assignments):\n",
        "    \"\"\"\n",
        "        - This function should be used when the label assignment of our EM\n",
        "    algorithm (Estimated_Assignments) are different from GroundTruth_Assignment\n",
        "        - This function performs all permutations over Estimated_Assignments and\n",
        "    then compares them with ground truth. All accuracies are saved in a list that\n",
        "    is sorted descending by accuracy before returning it\n",
        "        - How to use this function: simply write accuracy_with_all_permutations()\n",
        "    in a code cell and it will print a list of pairs containing\n",
        "    (accuracy, permutation) meaning \"the accuracy that we obtained by permuting\n",
        "    the labels in Estimated_Assignments using 'permutation'\"\n",
        "    \"\"\"\n",
        "    permutations = list(itertools.permutations(range(K), K))\n",
        "    #   This list keeps (accuracy, permutation) denoting the accuracy obtained\n",
        "    # by permuting the labels with \"permutation\"\n",
        "    perm_accuracies = []\n",
        "    \n",
        "    for perm in permutations:\n",
        "        pred = np.copy(Estimated_Assignments) # duplicate predictions\n",
        "        # modify prediction vector using permutation\n",
        "        for i in range(N):\n",
        "            pred[i] = perm[pred[i]]\n",
        "            \n",
        "        # START professor's code to compute accuracy\n",
        "        acc = 0\n",
        "        for k in range(K):\n",
        "            acc += np.sum(pred[GroundTruth_Assignment==col_ind[k]]==row_ind[k])\n",
        "        acc = round(acc / N * 100., 3)\n",
        "        # END professor's code to compute accuracy\n",
        "\n",
        "        # save the pair (acc, perm) and sort the list descending by accuracy\n",
        "        perm_accuracies.append((acc, perm))\n",
        "        perm_accuracies = sorted(perm_accuracies, key=lambda x: -x[0])\n",
        "    return perm_accuracies\n",
        "print('loaded accuracy_with_all_permutations')"
      ],
      "execution_count": 0,
      "outputs": [
        {
          "output_type": "stream",
          "text": [
            "loaded accuracy_with_all_permutations\n"
          ],
          "name": "stdout"
        }
      ]
    },
    {
      "cell_type": "code",
      "metadata": {
        "id": "tQsDGN663Xz7",
        "colab_type": "code",
        "outputId": "686344c3-f5c3-4b24-bf1a-2665eab52196",
        "colab": {
          "base_uri": "https://localhost:8080/",
          "height": 34
        }
      },
      "source": [
        "def VEM(init_type, val_N, val_K, val_o, show_plots=False):\n",
        "    \"\"\"\n",
        "        This function does the following:\n",
        "        - set global variables\n",
        "        - set model parameters\n",
        "        - set ground truth values\n",
        "        - initialization\n",
        "        - iterations for M, E-z, E-mu and E-nu steps\n",
        "        - evaluation (computing accuracy and mean vector distance)\n",
        "        - it also shows some plots if show_plots=True\n",
        "        Returns: a 3-tuple containing (error, acc, mvd, x)\n",
        "        - if error = True, then the metrics and data cannot be used (an error occured)\n",
        "        - if error = False, then the metrics and data can be used (no error occured)\n",
        "    \"\"\"\n",
        "    # initialize some VEM parameters given method parameters\n",
        "    N = val_N # number of samples\n",
        "    K = val_K # number of clusters\n",
        "    GroundTruth_omega = val_o # diagonal value of covariance for mean prior\n",
        "\n",
        "    #################### GLOBAL VARIABLES\n",
        "    #################################################################\n",
        "    Dx=2 # Dimension of the observation space\n",
        "    nIter = 10 # VEM Iterations\n",
        "    eps = 1e-10 # value to add in E-z step\n",
        "    colors = ['r','g','b']\n",
        "    \n",
        "    #################################################################\n",
        "    #################### MODEL PARAMETERS (SAME FOR ALL SEQS)\n",
        "    #################################################################\n",
        "    ## Components weights\n",
        "    GroundTruth_pi_k = (1.0/K)*np.ones((1,K))\n",
        "    ## Prior for the means\n",
        "    # Mean of the mean prior\n",
        "    GroundTruth_m = np.zeros((Dx))\n",
        "    # Covariance of the mean prior\n",
        "    ### GroundTruth_omega = 100 # this line is removed and put at the beginning of while - let it commented!\n",
        "    GroundTruth_Omega = GroundTruth_omega*np.identity(Dx)\n",
        "    ## Priof of the variance\n",
        "    GroundTruth_alpha = 40\n",
        "    alpha = GroundTruth_alpha # No estimation of the parameter alpha\n",
        "    GroundTruth_beta = 0.1\n",
        "    \n",
        "    #################################################################\n",
        "    #################### ASSIGN GROUND TRUTH\n",
        "    #################################################################\n",
        "    GroundTruth_Assignment = np.random.randint(0,K,N)\n",
        "    ## The means\n",
        "    GroundTruth_Means = np.random.multivariate_normal(mean = GroundTruth_m, cov = GroundTruth_Omega, size = K)\n",
        "    ## The variances\n",
        "    GroundTruth_Variances = np.random.gamma(shape = GroundTruth_alpha, scale = GroundTruth_beta, size = K)\n",
        "    ## Generate the observations\n",
        "    x = np.zeros((Dx,N))\n",
        "    for no in range(N):\n",
        "        target_index = GroundTruth_Assignment[no];\n",
        "        x[:,no] = np.random.multivariate_normal(mean = GroundTruth_Means[target_index,:], cov = GroundTruth_Variances[target_index]*np.identity(Dx))\n",
        "    \n",
        "    if show_plots:\n",
        "        plt.title('ground truth assignments')\n",
        "        plt.plot(x[0,:],x[1,:],'ob')\n",
        "        for k in range(K):\n",
        "            plt.plot(x[0,GroundTruth_Assignment==k],x[1,GroundTruth_Assignment==k],'o'+colors[k])\n",
        "        plt.show()\n",
        "\n",
        "        plt.title('data without assignments')\n",
        "        plt.plot(x[0, :], x[1, :], \"ob\")\n",
        "        plt.show()\n",
        "\n",
        "    #################################################################\n",
        "    #################### INITIALISATION\n",
        "    #################################################################\n",
        "    if init_type == 'random':\n",
        "        # Option 1: Select randomly K observations\n",
        "        selected_obs = np.random.choice(range(N),K)\n",
        "        m_k = x[:,selected_obs]\n",
        "    elif init_type == 'ground_truth':\n",
        "        # Option 2: Ground truth initialisation\n",
        "        m_k = GroundTruth_Means.copy()\n",
        "        m_k = np.transpose(m_k)\n",
        "    elif init_type == 'kmeans':\n",
        "        # Option 3: using KMeans\n",
        "        kmeans = KMeans(n_clusters=K)\n",
        "        kmeans.fit(x.T)\n",
        "        m_k = kmeans.cluster_centers_.T\n",
        "\n",
        "    # Initialise Omega_k to identity\n",
        "    Omega_k = np.zeros((Dx,Dx,K))\n",
        "    for k in range(K):\n",
        "        Omega_k[:,:,k] = np.identity(Dx)\n",
        "    ## Assignments\n",
        "    lambda_nk = np.zeros((N,K))\n",
        "    # Compute distance from each observation to the new means\n",
        "    distances = np.zeros((N,K))\n",
        "    for n in range(N):\n",
        "        for k in range(K):\n",
        "            distances[n,k] = np.linalg.norm(m_k[:,k]-x[:,n])\n",
        "        # Closest mean\n",
        "        kmin = np.argmin(distances[n,:])\n",
        "        # Hard assignment initialisation\n",
        "        lambda_nk[n,kmin] = 1\n",
        "\n",
        "    ## Initialise the posterior parameters of the gamma distribution to zero, they are the first to be computed\n",
        "    alpha_k = alpha*np.ones((K))\n",
        "    # Rate parameter\n",
        "    beta_k = np.zeros((K))\n",
        "    eta_k = np.zeros((K))\n",
        "    rho_k = np.zeros((K))\n",
        "    for k in range(K):\n",
        "        # Average cluster distance\n",
        "        avg_dist_k = np.average( distances[lambda_nk[:,k]==1,k] )\n",
        "        # beta = (alpha-1)*average + 1\n",
        "        # the \"+1\" avoids singularities\n",
        "        beta_k[k] = (alpha_k[k]-1)*avg_dist_k + 1\n",
        "        # Now we can compute eta_k and rho_k\n",
        "        eta_k[k] = np.log(beta_k[k]) - digamma(alpha_k[k])[0]\n",
        "        rho_k[k] = alpha_k[k]/beta_k[k]\n",
        "    \n",
        "    if show_plots:\n",
        "        plt.title('hard-assignment after the initialization')\n",
        "        plt.plot(x[0,:],x[1,:],'ob')\n",
        "        Plot_Assignments = np.argmax(lambda_nk,axis=1)\n",
        "        for k in range(K):\n",
        "            plt.plot(x[0,Plot_Assignments==k],x[1,Plot_Assignments==k],'o'+colors[k])\n",
        "        plt.show()\n",
        "    #################################################################\n",
        "    #################### VARIATIONAL EXPECTATION MAXIMIZATION (VEM)\n",
        "    #################################################################\n",
        "    ## Allocate parameters\n",
        "    pi_k = np.zeros((K))\n",
        "    m = np.zeros((Dx))\n",
        "    Omega = np.zeros((Dx,Dx))\n",
        "    beta = 0\n",
        "    Omega_k_inv = np.zeros((Dx,Dx,K))\n",
        "\n",
        "    ## Iterate\n",
        "    for it in range(nIter):\n",
        "        #################################################################\n",
        "        #################### M step\n",
        "        #################################################################\n",
        "        pi_k = 1/N*np.sum(lambda_nk, axis = 0)\n",
        "        m = 1/K*np.sum(m_k, axis = 1)\n",
        "        Omega_temp = np.zeros((Dx,Dx))\n",
        "        for k in range(K):\n",
        "            Omega_temp = Omega_temp + np.outer((m_k[:, k] - m), (m_k[:, k] - m)) + Omega_k[:, :, k]\n",
        "        Omega = Omega_temp/K\n",
        "        Omega_inv = np.linalg.inv(Omega)\n",
        "        beta = K*alpha/np.sum(rho_k)\n",
        "\n",
        "        #################################################################\n",
        "        #################### E-z step\n",
        "        #################################################################\n",
        "        for n in range(N):\n",
        "            numerator = np.zeros((K))\n",
        "            for k in range(K):\n",
        "                numerator[k] = eps + pi_k[k]*np.exp(-1/2*(Dx*eta_k[k] + rho_k[k]*(np.linalg.norm(x[:, n] - m_k[:, k])**2 + np.matrix.trace(Omega_k[:, :, k]))))\n",
        "            denominator = np.sum(numerator)\n",
        "            lambda_nk[n, :] = numerator/denominator\n",
        "\n",
        "\n",
        "        #################################################################\n",
        "        #################### E-mu step\n",
        "        #################################################################\n",
        "        for k in range(K):\n",
        "            Omega_k_inv[:,:,k] = Omega_inv + (eps + rho_k[k]*np.sum(lambda_nk[:, k]))*np.identity(Dx)\n",
        "            Omega_k[:,:,k] = np.linalg.inv(Omega_k_inv[:,:,k])\n",
        "            sum_term_m = np.zeros((Dx))\n",
        "            for n in range(N):\n",
        "                sum_term_m = sum_term_m + lambda_nk[n,k]*x[:,n]\n",
        "            m_k[:, k] = np.dot(Omega_k[:,:,k], np.dot(Omega_inv, m) + rho_k[k]*sum_term_m)\n",
        "\n",
        "        ## E-nu step\n",
        "        alpha_k = alpha + Dx/2*np.sum(lambda_nk, axis = 0)\n",
        "        for k in range(K):\n",
        "            sum_term_beta = 0\n",
        "            for n in range(N):\n",
        "                sum_term_beta = sum_term_beta + lambda_nk[n,k]*(np.linalg.norm(x[:, n]-m_k[:, k])**2+np.matrix.trace(Omega_k[:, :, k]))\n",
        "            beta_k[k] = beta + 1/2*sum_term_beta \n",
        "            eta_k[k] = np.log(beta_k[k]) - digamma(alpha_k[k])[0]\n",
        "            rho_k[k] = alpha_k[k]/beta_k[k]\n",
        "\n",
        "    if show_plots:\n",
        "        plt.title('estimated hard-assignment plot')\n",
        "        plt.plot(x[0,:],x[1,:],'ob')\n",
        "        Plot_Assignments = np.argmax(lambda_nk,axis=1)\n",
        "        for k in range(K):\n",
        "            plt.plot(x[0,Plot_Assignments==k],x[1,Plot_Assignments==k],'o'+colors[k])\n",
        "        plt.show()\n",
        "    \n",
        "    #################################################################\n",
        "    #################### VEM RESULTS EVALUATION\n",
        "    #################################################################\n",
        "    ### Evaluation of the VEM results\n",
        "    ## Find the optimal cluster assignment\n",
        "    # Compute the cost of assigning cluster k, to ground-truth cluster l\n",
        "    cluster_assignment_cost = np.zeros((K,K))\n",
        "    for k in range(K):\n",
        "        for l in range(K):\n",
        "            cluster_assignment_cost[k,l] = np.sum(lambda_nk[GroundTruth_Assignment==l,k])\n",
        "    try:\n",
        "        ### Usually, errors happen here: cluster_assignment_cost has NaN values and\n",
        "        ### method linear_sum_assignment is throwing an exception\n",
        "        \n",
        "        # Obtain the ground-truth-to-estiamted cluster assignment\n",
        "        row_ind, col_ind = linear_sum_assignment(-cluster_assignment_cost)\n",
        "    except:\n",
        "        ### If linear_sum_assignment throws an exception, stop function here and return False, -1, -1\n",
        "        return True, -1, -1, None\n",
        "\n",
        "    ## Compute L2 distance between means\n",
        "    mvd = 0\n",
        "    for k in range(K):\n",
        "        mvd = mvd + np.linalg.norm(m_k[:,row_ind[k]]-GroundTruth_Means[col_ind[k],:])\n",
        "\n",
        "    ## Compute the clasification error\n",
        "    # Optimal found assignment\n",
        "    Estimated_Assignments = np.argmax(lambda_nk, axis=1)\n",
        "    acc = 0\n",
        "    for k in range(K):\n",
        "        acc = acc + np.sum(Estimated_Assignments[GroundTruth_Assignment==col_ind[k]]==row_ind[k])\n",
        "    acc = float(acc) / N * 100.\n",
        "    return False, acc, mvd, x\n",
        "print('loaded VEM')"
      ],
      "execution_count": 0,
      "outputs": [
        {
          "output_type": "stream",
          "text": [
            "loaded VEM\n"
          ],
          "name": "stdout"
        }
      ]
    },
    {
      "cell_type": "markdown",
      "metadata": {
        "id": "ry8RFHqtH_mv",
        "colab_type": "text"
      },
      "source": [
        "# Run one iteration of VEM, see data plots and metrics"
      ]
    },
    {
      "cell_type": "code",
      "metadata": {
        "id": "qqnZxnPJFkeh",
        "colab_type": "code",
        "outputId": "3763eafd-e2d9-4128-9e59-60372b39e6e4",
        "colab": {
          "base_uri": "https://localhost:8080/",
          "height": 1000
        }
      },
      "source": [
        "# init_type can be 'random', 'ground_truth' or 'kmeans'\n",
        "error, acc, mvd, x = VEM(init_type='random', val_N=100, val_K=3, val_o=100, show_plots=True)\n",
        "if error:\n",
        "    print(f'An error occured during optimization, please run again')\n",
        "else:\n",
        "    print(f'Accuracy: {acc}')\n",
        "    print(f'Mean Vector Distance: {mvd}')\n",
        "    print('You can access the data by using variable x')"
      ],
      "execution_count": 0,
      "outputs": [
        {
          "output_type": "display_data",
          "data": {
            "image/png": "[encoded data removed]",
            "text/plain": [
              "<Figure size 432x288 with 1 Axes>"
            ]
          },
          "metadata": {
            "tags": []
          }
        },
        {
          "output_type": "display_data",
          "data": {
            "image/png": "[encoded data removed]",
            "text/plain": [
              "<Figure size 432x288 with 1 Axes>"
            ]
          },
          "metadata": {
            "tags": []
          }
        },
        {
          "output_type": "display_data",
          "data": {
            "image/png": "[encoded data removed]",
            "text/plain": [
              "<Figure size 432x288 with 1 Axes>"
            ]
          },
          "metadata": {
            "tags": []
          }
        },
        {
          "output_type": "display_data",
          "data": {
            "image/png": "[encoded data removed]",
            "text/plain": [
              "<Figure size 432x288 with 1 Axes>"
            ]
          },
          "metadata": {
            "tags": []
          }
        },
        {
          "output_type": "stream",
          "text": [
            "Accuracy: 69.0\n",
            "Mean Vector Distance: 24.743705219919224\n",
            "You can access the data by using variable x\n"
          ],
          "name": "stdout"
        }
      ]
    },
    {
      "cell_type": "markdown",
      "metadata": {
        "id": "riqBDB_C-3tb",
        "colab_type": "text"
      },
      "source": [
        "# Sensitivity Analysis: this solves 3.3.3 (c and d) and 3.4.3 (c and d)\n",
        "## To change initialization of means: use different values for variable \"init_type\"\n",
        "## To change parameters for sensitivity analysis: use variable \"in_test\""
      ]
    },
    {
      "cell_type": "code",
      "metadata": {
        "id": "baQaSj9g3DBj",
        "colab_type": "code",
        "outputId": "e2d3e0c3-d907-43a1-b41b-cd966b774a4e",
        "colab": {
          "base_uri": "https://localhost:8080/",
          "height": 51
        }
      },
      "source": [
        "# init_type = 'random'\n",
        "# init_type = 'ground_truth'\n",
        "init_type = 'kmeans'\n",
        "\n",
        "in_test = 'N' # select this if you test N\n",
        "# in_test = 'K' # select this if you test K\n",
        "# in_test = 'o' # select this if you test omega\n",
        "\n",
        "Ng = 100 # N = number of samples\n",
        "Kg = 3   # K = number of clusters\n",
        "og = 100 # omega = diagonal value for covariance matrix for mean prior\n",
        "\n",
        "proportions_N = [0.25, 0.5, 1, 2, 4] # the proportions to apply to Ng\n",
        "proportions_K = [1, 2, 3, 4, 5]      # the proportions to apply to Kg\n",
        "proportions_o = [0.25, 0.5, 1, 2, 4] # the proportions to apply to og\n",
        "\n",
        "# create all values for N, K and o\n",
        "N_values = [int(Ng * p) for p in proportions_N]\n",
        "K_values = [int(Kg * p) for p in proportions_K]\n",
        "o_values = [int(og * p) for p in proportions_o]\n",
        "\n",
        "values = None  # this will change depending on the test we perform: for N, N or omega\n",
        "if in_test == 'N':\n",
        "    values = N_values\n",
        "elif in_test == 'K':\n",
        "    values = K_values\n",
        "elif in_test == 'o':\n",
        "    values = o_values\n",
        "\n",
        "# create dictionary for metrics: key = Ng, value = array of size R containing metric for steps 1...R\n",
        "dict_mvd = dict([(v, []) for v in values])\n",
        "dict_acc = dict([(v, []) for v in values])\n",
        "\n",
        "R = 50\n",
        "errors = 0\n",
        "print(f'Running Sensitivity Analysis for {in_test} with {init_type} initialization')\n",
        "for val in values: # values is the list depending on in_test\n",
        "    # count how many metrics were computed successfully (without error)\n",
        "    # skip the error when it is caught (at this time, the variable no_metrics_successfully_computed will not increase)\n",
        "    no_metrics_successfully_computed = 0\n",
        "    while no_metrics_successfully_computed < R:\n",
        "        #################################################################\n",
        "        #################### SET N, K, omega DEPENDING ON in_test\n",
        "        #################################################################\n",
        "        if in_test == 'N': # we test for values of N: keep K and omega to ground\n",
        "            N = val\n",
        "            K = Kg\n",
        "            o = og\n",
        "        elif in_test == 'K':  # we test for values of K: keep N and omega to ground\n",
        "            N = Ng\n",
        "            K = val\n",
        "            o = og\n",
        "        elif in_test == 'o':  # we test for values of omega: keep N and K to ground\n",
        "            N = Ng\n",
        "            K = Kg\n",
        "            o = val\n",
        "        \n",
        "        error, acc, mvd, x = VEM(init_type, N, K, o, show_plots=False)\n",
        "        if error:\n",
        "            continue # this skips next steps and goes back to while evaluation\n",
        "        dict_acc[val].append(acc)\n",
        "        dict_mvd[val].append(mvd)        \n",
        "        \n",
        "        ### If we are successful, increase the number of successfully computed metrics\n",
        "        no_metrics_successfully_computed += 1\n",
        "print(f'Done! Total errors: {errors} (all errors were skipped using try-catch and replaced with new fresh runs)')"
      ],
      "execution_count": 0,
      "outputs": [
        {
          "output_type": "stream",
          "text": [
            "Running Sensitivity Analysis for N with kmeans initialization\n",
            "Done! Total errors: 0 (all errors were skipped using try-catch and replaced with new fresh runs)\n"
          ],
          "name": "stdout"
        }
      ]
    },
    {
      "cell_type": "markdown",
      "metadata": {
        "id": "GVMYz75M_wKH",
        "colab_type": "text"
      },
      "source": [
        "# Sensitivity Analysis plots"
      ]
    },
    {
      "cell_type": "code",
      "metadata": {
        "id": "DYFNscsH_uQ7",
        "colab_type": "code",
        "outputId": "32ffec26-375c-4258-8394-47f123324489",
        "colab": {
          "base_uri": "https://localhost:8080/",
          "height": 573
        }
      },
      "source": [
        "for name, d in [('accuracy', dict_acc), ('mean vector distance', dict_mvd)]:\n",
        "    x = values\n",
        "    y = [np.array(d[n]).mean() for n in values]\n",
        "    y_err = [np.array(d[n]).std() for n in values]\n",
        "\n",
        "    plt.errorbar(x=x, y=y, yerr=y_err, marker='o')\n",
        "    \n",
        "    plt.title(f'{name} with {init_type} initialization')\n",
        "    plt.xticks(values)\n",
        "    plt.ylabel('mean and std')\n",
        "    \n",
        "    if in_test == 'N':\n",
        "        plt.xlabel('number of samples')\n",
        "    elif in_test == 'K':\n",
        "        plt.xlabel('number of clusters')\n",
        "    elif in_test == 'o':\n",
        "        plt.xlabel('cov of mean prior')\n",
        "    \n",
        "    plt.show() # comment this to have one figure with both graphs"
      ],
      "execution_count": 0,
      "outputs": [
        {
          "output_type": "display_data",
          "data": {
            "image/png": "[encoded data removed]",
            "text/plain": [
              "<Figure size 432x288 with 1 Axes>"
            ]
          },
          "metadata": {
            "tags": []
          }
        },
        {
          "output_type": "display_data",
          "data": {
            "image/png": "[encoded data removed]",
            "text/plain": [
              "<Figure size 432x288 with 1 Axes>"
            ]
          },
          "metadata": {
            "tags": []
          }
        }
      ]
    },
    {
      "cell_type": "markdown",
      "metadata": {
        "id": "GR_hlR8vDWdx",
        "colab_type": "text"
      },
      "source": [
        "# Formulas to update the model at the end of the notebook\n",
        "\n",
        "## M step:\n",
        "\\begin{align*}\n",
        "\\pi_k^* &= \\frac{1}{N}\\sum\\limits_{n=1}^N \\lambda_{n,k}\\\\\n",
        "\\mathbf{m}^* &= \\frac{1}{K}\\sum_{k=1}^K \\mathbf{m}_k\\\\\n",
        "\\mathbf{\\Omega}^* &= \\frac{1}{K}\\sum_{k=1}^K (\\mathbf{m}_k - \\mathbf{m}^*)(\\mathbf{m}_k - \\mathbf{m}^*)^T + \\mathbf{\\Omega}_k\\\\\n",
        "\\beta^* &= \\frac{K\\alpha^{\\text{old}}}{\\sum\\limits_{k=1}^K \\rho_k}\n",
        "\\end{align*}\n",
        "\n",
        "## E-$z$ step:\n",
        "\\begin{align*}\n",
        "\\lambda_{n,k} &= \\frac{\\pi_{k}^{\\text {old }} \\exp \\left(-\\frac{1}{2}\\left[d_{x} \\eta_{k}+\\rho_{k}\\left(\\left\\|\\mathbf{x}_{n}-\\mathbf{m}_{k}\\right\\|^{2}+\\operatorname{Tr}\\left(\\mathbf{\\Omega}_{k}\\right)\\right)\\right]\\right)+\\varepsilon}{\\sum\\limits_{\\ell=1}^{K} \\left[\\pi_{\\ell}^{\\text {old }} \\exp \\left(-\\frac{1}{2}\\left[d_{x} \\eta_{\\ell}+\\rho_{\\ell}\\left(\\left\\|\\mathbf{x}_{n}-\\mathbf{m}_{\\ell}\\right\\|^{2}+\\operatorname{Tr}\\left(\\mathbf{\\Omega}_{\\ell}\\right)\\right)\\right]\\right)+\\varepsilon\\right]}\n",
        "\\end{align*}\n",
        "\n",
        "## E-$\\mu$ step:\n",
        "\\begin{equation*}\n",
        "q_{\\boldsymbol{\\mu}}\\left(\\boldsymbol{\\mu}_{k}\\right)=\\mathcal{N}\\left(\\boldsymbol{\\mu}_{k} ; \\mathbf{m}_{k}, \\boldsymbol{\\Omega}_{k}\\right),\n",
        "\\end{equation*}\n",
        "with \n",
        "\\begin{align*}\n",
        "\\mathbf{\\Omega}_{k}^{-1}&=(\\mathbf{\\Omega}^{\\text{old}})^{-1} + \\left(\\varepsilon + \\rho_k \\sum\\limits_{n=1}^N \\lambda_{n,k}\\right)\\mathbf{I}_{d_x}\\\\\n",
        "\\mathbf{m}_{k}&=\\mathbf{\\Omega}_{k}\\left(\\left(\\mathbf{\\Omega}^{\\mathrm{old}}\\right)^{-1} \\mathbf{m}^{\\mathrm{old}}+\\rho_{k} \\sum_{n=1}^{N} \\lambda_{n, k} \\mathbf{x}_{n}\\right)\n",
        "\\end{align*}\n",
        "\n",
        "## E-$\\nu$ step:\n",
        "\n",
        "$$q_\\nu({\\nu}_k) = \\mathcal{IG}({\\nu}_k; \\alpha_k, \\beta_k),$$\n",
        "with\n",
        "\\begin{align*}\n",
        "\\alpha_k &= \\alpha^{\\text{old}} + \\frac{d_x}{2}\\sum_{n=1}^N \\lambda_{n,k},\\\\\n",
        "\\beta_k &= \\beta^{\\text{old}} + \\frac{1}{2}\\sum_{n=1}^N \\lambda_{n,k} \\left(\\| \\mathbf{x}_n - \\mathbf{m}_k \\|^2 + \\text{Tr}(\\mathbf{\\Omega}_k)\\right).\n",
        "\\end{align*}"
      ]
    },
    {
      "cell_type": "code",
      "metadata": {
        "id": "QLGN4J4LDssx",
        "colab_type": "code",
        "colab": {}
      },
      "source": [
        ""
      ],
      "execution_count": 0,
      "outputs": []
    }
  ]
}